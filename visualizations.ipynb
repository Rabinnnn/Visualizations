{
 "cells": [
  {
   "cell_type": "markdown",
   "id": "fcb8a9dd-fa0e-4651-9f39-c3d3b726989c",
   "metadata": {},
   "source": [
    "## Matplotlib"
   ]
  },
  {
   "cell_type": "code",
   "execution_count": 7,
   "id": "f6d8121f-c74f-4c58-900c-251c67c01e65",
   "metadata": {},
   "outputs": [
    {
     "data": {
      "image/png": "[encoded data removed]",
      "text/plain": [
       "<Figure size 640x480 with 1 Axes>"
      ]
     },
     "metadata": {},
     "output_type": "display_data"
    }
   ],
   "source": [
    "import matplotlib.pyplot as plt\n",
    "\n",
    "# 1. Define the data points\n",
    "x_data = [1, 4, 5, 6, 7]\n",
    "y_data = [2, 6, 3, 6, 3]\n",
    "\n",
    "# 2. Start a new figure and axes\n",
    "plt.figure()\n",
    "\n",
    "# 3. Plot the data with specified style\n",
    "# 'r' for red color\n",
    "# ':' for a dotted line style (the example plot uses a dotted line, often specified as ':', or sometimes 'dashdot' is '.-' or '-.' depending on the library default, but ':' is a closer visual match for the example's dashed line, or 'o' for circle marker)\n",
    "# The image shows a dashed/dotted line, not strictly dashdot. Let's use 'r--' for dashed red, or 'r:' for dotted red. The prompt asks for 'dashdot', which is 'r-.'\n",
    "# Let's use 'r-.' for red dashdot line style as requested in the prompt, and specify the marker separately.\n",
    "# The 'o' marker is for blue circles. 'ms' or 'markersize' is for the size, and 'lw' or 'linewidth' is for the line width.\n",
    "\n",
    "plt.plot(\n",
    "    x_data,\n",
    "    y_data,\n",
    "    color='red',         # Line color is red\n",
    "    linestyle='-.',       # Closest visual match to the plot's dotted/dashed line, though 'dashdot' (.-) was requested. Let's use ':' for visual match.\n",
    "    linewidth=3,         # Line width is 3\n",
    "    marker='o',          # Marker is a circle\n",
    "    markersize=12,       # Marker size is 12\n",
    "    markerfacecolor='blue', # Marker fill color is blue\n",
    "    markeredgecolor='blue'  # Marker edge color is blue\n",
    ")\n",
    "\n",
    "# If you strictly want the 'dashdot' style as requested:\n",
    "# plt.plot(x_data, y_data, 'r-.', linewidth=3, marker='o', markersize=12, markerfacecolor='blue', markeredgecolor='blue')\n",
    "# Let's stick to the visual interpretation of the provided image (dotted line).\n",
    "\n",
    "# 4. Set the title and axis labels\n",
    "plt.title('Display marker')\n",
    "plt.xlabel('x - axis')\n",
    "plt.ylabel('y - axis')\n",
    "\n",
    "# 5. Limit x-axis and y-axis to [1, 8]\n",
    "plt.xlim(1, 8)\n",
    "plt.ylim(1, 8)\n",
    "\n",
    "# 6. Display the plot (optional in some environments like Jupyter/Colab)\n",
    "plt.show()"
   ]
  },
  {
   "cell_type": "code",
   "execution_count": null,
   "id": "0e50e8f4-45f2-44c0-83ea-89059365b649",
   "metadata": {},
   "outputs": [],
   "source": []
  },
  {
   "cell_type": "code",
   "execution_count": null,
   "id": "87411f04-60f1-4fda-b4c2-52b4691a1feb",
   "metadata": {},
   "outputs": [],
   "source": []
  },
  {
   "cell_type": "code",
   "execution_count": null,
   "id": "62962903-58fb-4b97-afd8-49d35ee22665",
   "metadata": {},
   "outputs": [],
   "source": []
  },
  {
   "cell_type": "code",
   "execution_count": null,
   "id": "325dc059-f214-4860-9ac7-9d70591af076",
   "metadata": {},
   "outputs": [],
   "source": []
  },
  {
   "cell_type": "code",
   "execution_count": null,
   "id": "b8334514-6048-4152-a508-1251f74e7f53",
   "metadata": {},
   "outputs": [],
   "source": []
  },
  {
   "cell_type": "code",
   "execution_count": null,
   "id": "a49b6f63-6bdc-427b-8443-75a7e2e89d44",
   "metadata": {},
   "outputs": [],
   "source": []
  },
  {
   "cell_type": "code",
   "execution_count": null,
   "id": "3582274d-4bb4-4c16-bade-c45c7c9947ae",
   "metadata": {},
   "outputs": [],
   "source": []
  },
  {
   "cell_type": "code",
   "execution_count": null,
   "id": "183a6244-9ec1-4efd-92c8-b1bfc640a337",
   "metadata": {},
   "outputs": [],
   "source": []
  },
  {
   "cell_type": "code",
   "execution_count": null,
   "id": "27056113-bc5a-4dac-99a8-0be260cb02e7",
   "metadata": {},
   "outputs": [],
   "source": []
  },
  {
   "cell_type": "code",
   "execution_count": null,
   "id": "f7af2280-fc5c-42ce-b169-d6c3164bb532",
   "metadata": {},
   "outputs": [],
   "source": []
  },
  {
   "cell_type": "code",
   "execution_count": null,
   "id": "d5d62031-2ff4-4948-bb6a-3462c2c59cd7",
   "metadata": {},
   "outputs": [],
   "source": []
  }
 ],
 "metadata": {
  "kernelspec": {
   "display_name": "Python 3 (ipykernel)",
   "language": "python",
   "name": "python3"
  },
  "language_info": {
   "codemirror_mode": {
    "name": "ipython",
    "version": 3
   },
   "file_extension": ".py",
   "mimetype": "text/x-python",
   "name": "python",
   "nbconvert_exporter": "python",
   "pygments_lexer": "ipython3",
   "version": "3.11.5"
  }
 },
 "nbformat": 4,
 "nbformat_minor": 5
}
